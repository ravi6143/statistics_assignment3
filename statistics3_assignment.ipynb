{
 "cells": [
  {
   "cell_type": "markdown",
   "id": "d8276437-2b3f-48c2-a00a-6782539d5620",
   "metadata": {},
   "source": [
    "# Question - 1\n",
    "ans - "
   ]
  },
  {
   "cell_type": "markdown",
   "id": "c2b62d4b-95d9-4305-9b13-d653af9d07cf",
   "metadata": {},
   "source": [
    "Estimation statistics is a branch of statistics that deals with the process of estimating population parameters (such as the mean, variance, proportion, etc.) based on information obtained from a sample of that population. It involves making educated guesses or inferences about these population parameters using statistical techniques.\n",
    "\n",
    "\n",
    "\n",
    "Estimation statistics is a branch of statistics that deals with the process of estimating population parameters (such as the mean, variance, proportion, etc.) based on information obtained from a sample of that population. It involves making educated guesses or inferences about these population parameters using statistical techniques.\n",
    "\n",
    "There are two main types of estimates in estimation statistics: point estimates and interval estimates.\n",
    "\n",
    "--. Point Estimate:\n",
    "\n",
    "*.A point estimate is a single numerical value that is used to estimate a population parameter. It represents the best guess or approximation of the true population parameter based on the information collected from the sample.\n",
    "\n",
    "*.For example, if you want to estimate the average income of a population based on a sample of individuals, a point estimate for the population mean might be the sample mean (the average income of the individuals in the sample). In this case, you are providing a single value as your best guess for the population mean.\n",
    "\n",
    "\n",
    "--. Interval Estimate:\n",
    "\n",
    "*.An interval estimate, on the other hand, provides a range of values within which the true population parameter is believed to lie, along with a level of confidence associated with that range.\n",
    "\n",
    "*.Confidence intervals are commonly used interval estimates. A confidence interval consists of a lower and an upper bound, and it is constructed in such a way that there is a specified level of confidence (e.g., 95% confidence) that the true population parameter falls within the interval.\n",
    "\n",
    "*.For instance, if you calculate a 95% confidence interval for the population mean income, it might be expressed as \"The average income of the population is estimated to be between $40,000 and $50,000 with 95% confidence.\" This means that you are reasonably confident (95% confidence level) that the true population mean income falls within this range."
   ]
  },
  {
   "cell_type": "code",
   "execution_count": null,
   "id": "46affc80-1de4-4287-b9f8-4cb74e2aa9e6",
   "metadata": {},
   "outputs": [],
   "source": []
  },
  {
   "cell_type": "code",
   "execution_count": null,
   "id": "1939922d-cf90-4d49-8a18-015152af05e6",
   "metadata": {},
   "outputs": [],
   "source": []
  },
  {
   "cell_type": "markdown",
   "id": "aed5c68a-644e-4c18-a44e-bf0ea9706ef6",
   "metadata": {},
   "source": [
    "# Question -2\n",
    "ans - "
   ]
  },
  {
   "cell_type": "code",
   "execution_count": 3,
   "id": "58615e38-d869-46cd-ba1f-bdc28ec187ba",
   "metadata": {},
   "outputs": [
    {
     "name": "stdout",
     "output_type": "stream",
     "text": [
      "estimated population mean is 50\n"
     ]
    }
   ],
   "source": [
    "import scipy.stats as stats\n",
    "\n",
    "def population_mean(sample_mean , std_dev,sample_size, confidence_level):\n",
    "    sample_mean = 50\n",
    "    std_dev = 10\n",
    "    sample_size = 100\n",
    "    confidence_level = 0.95\n",
    "    \n",
    "    std_error = std_dev/(sample_size ** 0.5)\n",
    "    \n",
    "\n",
    "    \n",
    "    z_score = stats.norm.ppf(1 - (1- confidence_level)/2)\n",
    "    \n",
    "    margin_error = std_error*z_score\n",
    "    \n",
    "    \n",
    "    lower_bound = sample_mean - margin_error\n",
    "    upper_bound = sample_mean + margin_error\n",
    "    \n",
    "    return sample_mean \n",
    "\n",
    "\n",
    "estimated_mean  = population_mean(50, 10 , 100 , 0.95)\n",
    "\n",
    "print(f\"estimated population mean is {estimated_mean}\")\n",
    "    \n",
    "    \n",
    "    \n",
    "    \n",
    "    "
   ]
  },
  {
   "cell_type": "code",
   "execution_count": null,
   "id": "dc7f83a0-8b5c-4dcc-8397-cc373b5481b8",
   "metadata": {},
   "outputs": [],
   "source": []
  },
  {
   "cell_type": "code",
   "execution_count": null,
   "id": "ee900f15-d9a2-446b-a335-961ab496e78a",
   "metadata": {},
   "outputs": [],
   "source": []
  },
  {
   "cell_type": "code",
   "execution_count": null,
   "id": "05cef2eb-4fe7-4dbc-8ebe-a72eea47f7f6",
   "metadata": {},
   "outputs": [],
   "source": []
  },
  {
   "cell_type": "markdown",
   "id": "7ccba4e5-90bf-4ec7-bbc4-99ae707f0ed7",
   "metadata": {},
   "source": [
    "# Question -3\n",
    "ans - "
   ]
  },
  {
   "cell_type": "markdown",
   "id": "6bd60ce7-8d17-440c-815c-83f22d3fc61e",
   "metadata": {},
   "source": [
    "Hypothesis testing is a fundamental concept in statistics used to make informed decisions and draw conclusions about populations based on sample data. It is a structured and systematic process that involves comparing two competing hypotheses: the null hypothesis (H0) and the alternative hypothesis (Ha or H1).\n",
    "\n",
    "--. Here's how hypothesis testing works and why it is important:\n",
    "\n",
    "(a). Null Hypothesis (H0): The null hypothesis is a statement of no effect or no difference. It represents the status quo or a default assumption. In other words, it suggests that there is no significant change, effect, or relationship in the population.\n",
    "\n",
    "(b). Alternative Hypothesis (Ha or H1): The alternative hypothesis is a statement that contradicts the null hypothesis. It suggests that there is a significant change, effect, or relationship in the population.\n",
    "\n",
    "(c). Data Collection: Data is collected through experiments, surveys, or observations. This data is used to test the hypotheses.\n",
    "\n",
    "(d). Statistical Analysis: Statistical methods are applied to the sample data to determine whether there is enough evidence to either reject the null hypothesis or fail to reject it.\n",
    "\n",
    "(e). Test Statistic: A test statistic is calculated from the sample data. It quantifies the difference between the observed data and what would be expected under the null hypothesis.\n",
    "\n",
    "(f). P-Value: The p-value is the probability of obtaining results as extreme as or more extreme than the observed results, assuming that the null hypothesis is true. A small p-value (typically less than a pre-defined significance level, often denoted as α) indicates strong evidence against the null hypothesis.\n",
    "\n",
    "(g). Decision: Based on the p-value and the chosen significance level, a decision is made:\n",
    "\n",
    "If the p-value is less than α, you reject the null hypothesis in favor of the alternative hypothesis.\n",
    "If the p-value is greater than or equal to α, you fail to reject the null hypothesis.\n",
    "\n",
    "\n",
    "\n",
    "**. Importance of Hypothesis Testing:\n",
    "\n",
    "a). Informed Decision-Making: Hypothesis testing provides a systematic way to make informed decisions based on data rather than relying on intuition or anecdotal evidence.\n",
    "\n",
    "b). Scientific Validity: It is a critical tool in scientific research, helping researchers assess the significance of their findings and determine whether they are statistically meaningful.\n",
    "\n",
    "c). Quality Control: In manufacturing and industry, hypothesis testing is used to ensure product quality and consistency by comparing samples to established standards.\n",
    "\n",
    "d). Medical Research: Hypothesis testing is essential in clinical trials to determine the effectiveness of new treatments or drugs.\n",
    "\n",
    "e). Policy and Business Decision-Making: Businesses and policymakers use hypothesis testing to evaluate the impact of strategies, policies, or interventions.\n",
    "\n",
    "f). Problem Solving: It helps in problem-solving by providing a structured framework for testing hypotheses and finding solutions.\n",
    "\n",
    "g). Risk Assessment: It is used in risk analysis to assess the likelihood and impact of various scenarios.\n",
    "\n"
   ]
  },
  {
   "cell_type": "code",
   "execution_count": null,
   "id": "c35c2ad8-62ad-4e12-8105-0cd76e09f8f8",
   "metadata": {},
   "outputs": [],
   "source": []
  },
  {
   "cell_type": "code",
   "execution_count": null,
   "id": "fceee7ca-31d2-4684-b51c-229705b7458a",
   "metadata": {},
   "outputs": [],
   "source": []
  },
  {
   "cell_type": "code",
   "execution_count": null,
   "id": "023c114d-fb96-43c5-ae08-42360090ebcb",
   "metadata": {},
   "outputs": [],
   "source": []
  },
  {
   "cell_type": "markdown",
   "id": "2c7954d7-0850-4b4d-95a4-06e08c308bc1",
   "metadata": {},
   "source": [
    "# Question - 4\n",
    "ans - "
   ]
  },
  {
   "cell_type": "markdown",
   "id": "3f93aaf4-4b8b-4e44-9ea3-d8358e5c5287",
   "metadata": {},
   "source": [
    "(i). Null Hypothesis (H0):\n",
    "The null hypothesis is the default assumption that there is no significant difference in the average weight between male and female college students.\n",
    "\n",
    "H0: μ_male = μ_female\n",
    "\n",
    "(ii). Alternative Hypothesis (Ha or H1):\n",
    "The alternative hypothesis is the statement that contradicts the null hypothesis. In this case, you want to test if the average weight of male college students is greater than the average weight of female college students.\n",
    "\n",
    "Ha: μ_male > μ_female\n",
    "\n",
    "Here, μ_male represents the population mean weight of male college students, and μ_female represents the population mean weight of female college students."
   ]
  },
  {
   "cell_type": "code",
   "execution_count": null,
   "id": "ba193764-b72c-4c0e-9567-4e361c6cea35",
   "metadata": {},
   "outputs": [],
   "source": []
  },
  {
   "cell_type": "code",
   "execution_count": null,
   "id": "c6509291-38b0-4eb4-ada5-6c0fd52836c5",
   "metadata": {},
   "outputs": [],
   "source": []
  },
  {
   "cell_type": "markdown",
   "id": "4ee71227-fe92-46c6-b955-80d3a4a79fca",
   "metadata": {},
   "source": [
    "# Question - 5\n",
    "ans - "
   ]
  },
  {
   "cell_type": "code",
   "execution_count": 9,
   "id": "4a4fd1a8-5195-47dd-98d0-0be1724984df",
   "metadata": {},
   "outputs": [],
   "source": [
    "import scipy.stats as stats\n",
    "\n",
    "import numpy as np\n",
    "\n",
    "sample1 = np.random.randint(12 , 80 , 15)\n",
    "sample2 = np.random.randint(12,120 , 15)"
   ]
  },
  {
   "cell_type": "code",
   "execution_count": 10,
   "id": "ebcb73e8-147c-42fe-a1b3-c90d39d08241",
   "metadata": {},
   "outputs": [
    {
     "data": {
      "text/plain": [
       "array([29, 40, 59, 30, 24, 30, 50, 15, 50, 24, 27, 73, 78, 17, 64])"
      ]
     },
     "execution_count": 10,
     "metadata": {},
     "output_type": "execute_result"
    }
   ],
   "source": [
    "sample1"
   ]
  },
  {
   "cell_type": "code",
   "execution_count": 11,
   "id": "8fe8bd92-eb5c-465b-be79-960e85c467e1",
   "metadata": {},
   "outputs": [
    {
     "data": {
      "text/plain": [
       "array([ 26, 119, 117,  71,  49,  65, 112,  60,  30,  93,  33,  67,  59,\n",
       "        60,  39])"
      ]
     },
     "execution_count": 11,
     "metadata": {},
     "output_type": "execute_result"
    }
   ],
   "source": [
    "sample2"
   ]
  },
  {
   "cell_type": "code",
   "execution_count": 12,
   "id": "f134b4ec-bb27-4185-abd3-029a3fd83f50",
   "metadata": {},
   "outputs": [
    {
     "name": "stdout",
     "output_type": "stream",
     "text": [
      "null hypothesis rejected\n"
     ]
    }
   ],
   "source": [
    "alpha = 0.5\n",
    "\n",
    "\n",
    "t_static , p_value = stats.ttest_ind(sample1 , sample2)\n",
    "\n",
    "if p_value < alpha:\n",
    "    print(\"null hypothesis rejected\")\n",
    "    \n",
    "else:\n",
    "    print(\"null hypothesis accepted\")"
   ]
  },
  {
   "cell_type": "code",
   "execution_count": 13,
   "id": "bb190082-e124-4362-8af5-31a4e9287d13",
   "metadata": {},
   "outputs": [
    {
     "name": "stdout",
     "output_type": "stream",
     "text": [
      "T_static -2.7178242426337382\n",
      "P_value 0.01114619429223701\n"
     ]
    }
   ],
   "source": [
    "print(f\"T_static {t_static}\")\n",
    "print(f\"P_value {p_value}\")"
   ]
  },
  {
   "cell_type": "code",
   "execution_count": null,
   "id": "51e868e0-bab8-479d-bcd8-307053e8d0a6",
   "metadata": {},
   "outputs": [],
   "source": []
  },
  {
   "cell_type": "code",
   "execution_count": null,
   "id": "299797a0-cdf5-498c-8138-2a61b4553beb",
   "metadata": {},
   "outputs": [],
   "source": []
  },
  {
   "cell_type": "code",
   "execution_count": null,
   "id": "d2c9f1b9-5512-4404-a196-49a37d64455c",
   "metadata": {},
   "outputs": [],
   "source": []
  },
  {
   "cell_type": "markdown",
   "id": "e4e134be-6f00-4e41-ab71-bc37c34507d4",
   "metadata": {},
   "source": [
    "# Question - 6\n",
    "ans - "
   ]
  },
  {
   "cell_type": "markdown",
   "id": "bc70ca19-87c5-4ffe-8f36-3e461d06832e",
   "metadata": {},
   "source": [
    "a. Null Hypothesis (H0):\n",
    "\n",
    "(i).The null hypothesis is a statement of no effect, no difference, or no relationship. It represents the default assumption or the status quo.\n",
    "(ii). It is typically denoted as H0.\n",
    "(iii). The null hypothesis is what you aim to test against to determine if there is enough evidence to reject it.\n",
    "(iv).In statistical notation, H0 often includes an equality symbol (e.g., =, ≤, or ≥).\n",
    "\n",
    "Examples:\n",
    "\n",
    "H0: The mean weight of male college students is equal to 160 pounds.\n",
    "H0: There is no difference in test scores between two teaching methods (mean1 = mean2).\n",
    "H0: The proportion of customers who prefer Product A is greater than or equal to 50% (p ≥ 0.50).\n",
    "\n",
    "\n",
    "b. Alternative Hypothesis (Ha or H1):\n",
    "\n",
    "(i). The alternative hypothesis is a statement that contradicts the null hypothesis. It represents what you're trying to show or prove.\n",
    "(ii). It is typically denoted as Ha or H1.\n",
    "(iii).The alternative hypothesis can take different forms depending on the research question and what you want to investigate.\n",
    "(iv).In statistical notation, Ha often includes inequality symbols (e.g., ≠, <, or >).\n",
    "\n",
    "\n",
    "Examples:\n",
    "\n",
    "Ha: The mean weight of male college students is not equal to 160 pounds.\n",
    "Ha: There is a difference in test scores between two teaching methods (mean1 ≠ mean2).\n",
    "Ha: The proportion of customers who prefer Product A is less than 50% (p < 0.50)."
   ]
  },
  {
   "cell_type": "code",
   "execution_count": null,
   "id": "a42ae059-fae4-4eaf-91dd-0020ddda9351",
   "metadata": {},
   "outputs": [],
   "source": []
  },
  {
   "cell_type": "code",
   "execution_count": null,
   "id": "d76be803-364e-4c86-b532-53befd33d470",
   "metadata": {},
   "outputs": [],
   "source": []
  },
  {
   "cell_type": "code",
   "execution_count": null,
   "id": "d84e82a4-92eb-41e9-b675-76c383987d23",
   "metadata": {},
   "outputs": [],
   "source": [
    "\n"
   ]
  },
  {
   "cell_type": "markdown",
   "id": "59f59b73-bef1-417e-bf55-84a04066b95d",
   "metadata": {},
   "source": [
    "# Question - 7\n",
    "ans -"
   ]
  },
  {
   "cell_type": "markdown",
   "id": "c13ed309-36c1-4494-a12e-490f54e6ad20",
   "metadata": {},
   "source": [
    "Hypothesis testing is a systematic process used in statistics to make decisions and draw conclusions about population parameters based on sample data. Here are the general steps involved in hypothesis testing:\n",
    "\n",
    "**. Formulate Hypotheses:\n",
    "\n",
    "(i). Begin by clearly stating the null hypothesis (H0) and the alternative hypothesis (Ha or H1) based on the research question or problem you want to investigate.\n",
    "The null hypothesis typically represents the default assumption, while the alternative hypothesis represents what you aim to prove or show.\n",
    "\n",
    "(ii). Collect Data:\n",
    "\n",
    "Gather relevant data through experiments, surveys, observations, or other data collection methods.\n",
    "Ensure that the data collection process is carefully designed to meet the objectives of your hypothesis test.\n",
    "(iii). Select a Significance Level (Alpha):\n",
    "\n",
    "Choose a significance level (often denoted as α) that represents the probability of making a Type I error (rejecting the null hypothesis when it is true).\n",
    "Common significance levels include 0.05 (5%), 0.01 (1%), and 0.10 (10%), but the choice depends on the context and the desired level of confidence.\n",
    "\n",
    "(iv). Perform a Statistical Test:\n",
    "\n",
    "Select an appropriate statistical test or method based on the nature of your data and the hypotheses being tested. Common tests include t-tests, chi-squared tests, ANOVA, regression analysis, and more.\n",
    "Calculate the test statistic (e.g., t-statistic, chi-squared statistic) based on the sample data and the chosen statistical test.\n",
    "\n",
    "\n",
    "(v). Calculate the P-Value:\n",
    "\n",
    "Compute the p-value, which represents the probability of observing results as extreme as, or more extreme than, those obtained from the sample data, assuming the null hypothesis is true.\n",
    "The p-value is compared to the chosen significance level to make a decision.\n",
    "\n",
    "\n",
    "(vi). Make a Decision:\n",
    "\n",
    "If the p-value is less than or equal to α (the significance level), you reject the null hypothesis in favor of the alternative hypothesis. This indicates that there is enough evidence to support the alternative hypothesis.\n",
    "If the p-value is greater than α, you fail to reject the null hypothesis. This means there is insufficient evidence to support the alternative hypothesis, and the default assumption (null hypothesis) stands.\n",
    "\n",
    "\n",
    "(vii). Interpret the Results:\n",
    "\n",
    "Based on your decision, interpret the results of the hypothesis test in the context of the research question.\n",
    "Consider the practical significance and implications of your findings.\n",
    "\n",
    "\n",
    "(viii). Draw Conclusions:\n",
    "\n",
    "Summarize your findings and draw conclusions about the population based on the results of the hypothesis test.\n",
    "Clearly communicate the implications of your conclusions for the problem or research question.\n",
    "\n",
    "\n",
    "(ix)Report the Results:\n",
    "\n",
    "Present the results of the hypothesis test in a clear and concise manner, including the test statistic, p-value, decision, and conclusions.\n",
    "Include any relevant visualizations, such as graphs or charts, to aid in the interpretation of results.\n",
    "\n",
    "\n",
    "(x). Verify Assumptions (Optional):\n",
    "\n",
    "Depending on the statistical test used, verify whether the assumptions of the test are met (e.g., normality of data, independence of observations).\n",
    "Adjustments or alternative tests may be necessary if assumptions are not met.\n",
    "\n",
    "\n",
    "(xi). Document the Methodology:\n",
    "\n",
    "Maintain a record of the data, analysis, and methodology used in the hypothesis test for transparency and reproducibility."
   ]
  },
  {
   "cell_type": "code",
   "execution_count": null,
   "id": "53f80602-cb1a-4eab-8029-d05878435fab",
   "metadata": {},
   "outputs": [],
   "source": []
  },
  {
   "cell_type": "code",
   "execution_count": null,
   "id": "74d69503-fccb-46a4-8e06-797d1091a43c",
   "metadata": {},
   "outputs": [],
   "source": []
  },
  {
   "cell_type": "markdown",
   "id": "92e0b777-cf7f-455a-9888-3af56e549336",
   "metadata": {},
   "source": [
    "# Question - 8\n",
    "ans - "
   ]
  },
  {
   "cell_type": "markdown",
   "id": "2fb6b7aa-3a8b-40b2-89f1-4f4a6b50b09d",
   "metadata": {},
   "source": [
    "he p-value, short for \"probability value,\" is a crucial concept in hypothesis testing and statistics. It quantifies the strength of evidence against the null hypothesis (H0) and is used to make decisions in hypothesis testing. Here's the definition and significance of the p-value in hypothesis testing:\n",
    "\n",
    "Definition:\n",
    "The p-value is the probability of observing results as extreme as, or more extreme than, those obtained from the sample data, assuming that the null hypothesis (H0) is true. In other words, it measures how likely the observed data would be under the assumption that there is no effect, no difference, or no relationship (as stated in the null hypothesis).\n",
    "\n",
    "Significance in Hypothesis Testing:\n",
    "The p-value plays a critical role in hypothesis testing and helps researchers, analysts, and decision-makers draw conclusions based on empirical data. Here's its significance:\n",
    "\n",
    "(a). Decision Rule: The p-value provides a decision rule for hypothesis testing. Typically, you compare the p-value to a predetermined significance level (α), also known as the Type I error rate. Common significance levels include 0.05 (5%), 0.01 (1%), and 0.10 (10%). The decision rule is as follows:\n",
    "\n",
    "If p-value ≤ α: Reject the null hypothesis (H0).\n",
    "If p-value > α: Fail to reject the null hypothesis (H0).\n",
    "\n",
    "\n",
    "(b). Strength of Evidence: A smaller p-value indicates stronger evidence against the null hypothesis. If the p-value is very small (e.g., p < 0.05), it suggests that the observed data is unlikely to occur by random chance if the null hypothesis were true. In such cases, you may have strong evidence to reject the null hypothesis in favor of the alternative hypothesis (Ha).\n",
    "\n",
    "(c). Interpretation: The p-value helps you interpret the results of a hypothesis test. When the p-value is small, you may conclude that there is evidence in favor of the alternative hypothesis, suggesting that there is a significant effect, difference, or relationship in the population.\n",
    "\n",
    "(d). Level of Confidence: The p-value allows you to express the level of confidence in your findings. If the p-value is below the significance level (α), you can say that you are, for example, 95% confident (if α = 0.05) that the null hypothesis should be rejected.\n",
    "\n",
    "(e). Risk of Type I Error: The choice of significance level (α) in the hypothesis test determines the risk of making a Type I error, which is the error of rejecting the null hypothesis when it is actually true. Smaller values of α (e.g., 0.01) reduce the risk of Type I errors but may increase the risk of Type II errors (failing to detect a true effect)."
   ]
  },
  {
   "cell_type": "code",
   "execution_count": null,
   "id": "81be8f97-c678-46bd-9348-d7ee882852b2",
   "metadata": {},
   "outputs": [],
   "source": []
  },
  {
   "cell_type": "code",
   "execution_count": null,
   "id": "8098e8b9-5e64-4991-b490-eb8352052cfb",
   "metadata": {},
   "outputs": [],
   "source": []
  },
  {
   "cell_type": "markdown",
   "id": "af81ec13-b795-4ab6-ae6a-c8d7d3636fc6",
   "metadata": {},
   "source": [
    "# Question - 9\n",
    "ans - "
   ]
  },
  {
   "cell_type": "code",
   "execution_count": 16,
   "id": "0fdc9f6b-91ef-45d7-84c0-e11c9204a66e",
   "metadata": {},
   "outputs": [
    {
     "data": {
      "image/png": "[encoded data removed]",
      "text/plain": [
       "<Figure size 640x480 with 1 Axes>"
      ]
     },
     "metadata": {},
     "output_type": "display_data"
    }
   ],
   "source": [
    "import scipy.stats as stats\n",
    "import numpy as np\n",
    "\n",
    "import matplotlib.pyplot as plt\n",
    "\n",
    "x = np.linspace(-5, 5 , 200)\n",
    "\n",
    "df = 10\n",
    "\n",
    "pdf = stats.t.pdf(x,df)\n",
    "\n",
    "\n",
    "plt.plot(x , pdf , label = f\"t-distribution (df{df})\" , color = 'red')\n",
    "plt.title(f\"students T-distribution (df{df})\")\n",
    "\n",
    "plt.xlabel('x')\n",
    "plt.ylabel('pdf')\n",
    "\n",
    "plt.grid(True)\n",
    "plt.legend()\n",
    "\n",
    "plt.show()"
   ]
  },
  {
   "cell_type": "code",
   "execution_count": null,
   "id": "062d9482-dcd0-4fdd-8bb8-4cd0068ab407",
   "metadata": {},
   "outputs": [],
   "source": []
  },
  {
   "cell_type": "code",
   "execution_count": null,
   "id": "1ff8e853-510b-460c-9bfb-0b067b61f2fa",
   "metadata": {},
   "outputs": [],
   "source": []
  },
  {
   "cell_type": "code",
   "execution_count": null,
   "id": "1780d7cd-88c3-4a5f-b063-91fad230cd9a",
   "metadata": {},
   "outputs": [],
   "source": []
  },
  {
   "cell_type": "markdown",
   "id": "71ccf930-5099-4126-96d3-fa0e64ec04f3",
   "metadata": {},
   "source": [
    "# Question - 10\n",
    "ans - "
   ]
  },
  {
   "cell_type": "code",
   "execution_count": 18,
   "id": "a946e51d-9316-4e5b-8a1b-134355b344ff",
   "metadata": {},
   "outputs": [
    {
     "name": "stdout",
     "output_type": "stream",
     "text": [
      "null hypothesis is rejected , there is enough evidence to suggest that population means are different\n",
      "T_static is -5.50091025673177\n",
      "P_value is 1.1585902927445442e-07\n"
     ]
    }
   ],
   "source": [
    "import scipy.stats as stats\n",
    "import numpy as np\n",
    "\n",
    "sample1 = np.random.normal(40,8,100)\n",
    "sample2 = np.random.normal(45,10,100)\n",
    "\n",
    "t_static , p_value = stats.ttest_ind(sample1,sample2)\n",
    "\n",
    "alpha = 0.05\n",
    "\n",
    "\n",
    "if p_value<alpha:\n",
    "    print(\"null hypothesis is rejected , there is enough evidence to suggest that population means are different\")\n",
    "else:\n",
    "    print(\"null hypothesis accepted , there is not enough evidence to suggest that population mean are different\")\n",
    "    \n",
    "    \n",
    "print(f\"T_static is {t_static}\")\n",
    "print(f\"P_value is {p_value}\")\n",
    "    "
   ]
  },
  {
   "cell_type": "code",
   "execution_count": null,
   "id": "78c2ddbf-e967-4f9a-ba44-4aebc180d7de",
   "metadata": {},
   "outputs": [],
   "source": []
  },
  {
   "cell_type": "code",
   "execution_count": null,
   "id": "7f35baad-8772-4efd-80b5-fc7fdd183803",
   "metadata": {},
   "outputs": [],
   "source": []
  },
  {
   "cell_type": "code",
   "execution_count": null,
   "id": "d1c76468-70e4-4dd5-8d75-f07000f874b6",
   "metadata": {},
   "outputs": [],
   "source": []
  },
  {
   "cell_type": "markdown",
   "id": "80fe1c37-0d85-4d5f-8dc3-ea81f5ea5a02",
   "metadata": {},
   "source": [
    "# Question - 11\n",
    "ans - "
   ]
  },
  {
   "cell_type": "markdown",
   "id": "eb94271d-81fc-4d0c-b4c4-8a106e5d1728",
   "metadata": {},
   "source": [
    "Student's t-distribution, often referred to simply as the t-distribution, is a probability distribution that is similar in shape to the normal distribution (bell-shaped) but with heavier tails.\n",
    "\n",
    "The t-distribution is commonly used in statistics for hypothesis testing and confidence interval estimation when dealing with small sample sizes or when the population standard deviation is unknown."
   ]
  },
  {
   "cell_type": "code",
   "execution_count": null,
   "id": "3d35de3a-981c-4f98-be12-d600ae5e39ee",
   "metadata": {},
   "outputs": [],
   "source": []
  },
  {
   "cell_type": "code",
   "execution_count": null,
   "id": "2bb9cf1d-e28d-432e-9aab-5edd4f689a49",
   "metadata": {},
   "outputs": [],
   "source": []
  },
  {
   "cell_type": "markdown",
   "id": "d0c6e2cc-14cf-4954-a0b3-57c7597b7e02",
   "metadata": {},
   "source": [
    "# Question - 12\n",
    "ans - "
   ]
  },
  {
   "cell_type": "markdown",
   "id": "a526985a-7556-4b31-afff-31de0df7ec80",
   "metadata": {},
   "source": [
    "The t-statistic, also known as the t-value, is a numerical measure used in hypothesis testing to assess the significance of the difference between a sample statistic (such as the sample mean) and a population parameter (such as the population mean). The t-statistic is calculated based on sample data and helps determine whether the observed difference is statistically significant or if it could have occurred by random chance.\n",
    "\n",
    "\n",
    "Formula for t-static = \n",
    "\n",
    "t= X-μ/s/sqrt of n"
   ]
  },
  {
   "cell_type": "code",
   "execution_count": null,
   "id": "8d76825e-9adc-4274-ac6b-1db5e666d434",
   "metadata": {},
   "outputs": [],
   "source": []
  },
  {
   "cell_type": "code",
   "execution_count": null,
   "id": "f2950123-c56e-44f3-be22-e54e28ee6a53",
   "metadata": {},
   "outputs": [],
   "source": []
  },
  {
   "cell_type": "markdown",
   "id": "2df1f98b-785c-4d65-8bd0-d40e551765e9",
   "metadata": {},
   "source": [
    "# Question - 13 \n",
    "ans - "
   ]
  },
  {
   "cell_type": "code",
   "execution_count": 26,
   "id": "e118b25d-254a-49b8-aeb1-f900bca9256b",
   "metadata": {},
   "outputs": [
    {
     "name": "stdout",
     "output_type": "stream",
     "text": [
      "Sample Mean Revenue: $500\n",
      "Sample Standard Deviation: $50\n",
      "Sample Size: 50\n",
      "Confidence Level: 95.0%\n",
      "Degrees of Freedom: 49\n",
      "Critical t-value: 2.0096\n",
      "Margin of Error: 14.2098\n",
      "95% Confidence Interval for Population Mean Revenue: $485.79 to $514.21\n"
     ]
    }
   ],
   "source": [
    "import scipy.stats as scipy\n",
    "import math\n",
    "\n",
    "n = 50 \n",
    "sample_mean = 500\n",
    "sample_std = 50\n",
    "confidence_interval = 0.95\n",
    "df = 49\n",
    "\n",
    "alpha = 0.05\n",
    "\n",
    "critical_value = stats.t.ppf((1+ confidence_interval)/2 ,df )\n",
    "\n",
    "margin_error = critical_value *(sample_std/math.sqrt(n))\n",
    "\n",
    "lower_bound = sample_mean- margin_error\n",
    "upper_bound = sample_mean + margin_error\n",
    "\n",
    "\n",
    "print(f\"Sample Mean Revenue: ${sample_mean}\")\n",
    "print(f\"Sample Standard Deviation: ${sample_std}\")\n",
    "print(f\"Sample Size: {n}\")\n",
    "print(f\"Confidence Level: {confidence_interval * 100}%\")\n",
    "print(f\"Degrees of Freedom: {df}\")\n",
    "print(f\"Critical t-value: {critical_value:.4f}\")\n",
    "print(f\"Margin of Error: {margin_error:.4f}\")\n",
    "print(f\"95% Confidence Interval for Population Mean Revenue: ${lower_bound:.2f} to ${upper_bound:.2f}\")"
   ]
  },
  {
   "cell_type": "code",
   "execution_count": null,
   "id": "b96de0df-a9ce-40e6-9868-65349674b89c",
   "metadata": {},
   "outputs": [],
   "source": []
  },
  {
   "cell_type": "code",
   "execution_count": null,
   "id": "4b32d880-945f-42aa-9e68-f940864d2a92",
   "metadata": {},
   "outputs": [],
   "source": []
  },
  {
   "cell_type": "markdown",
   "id": "92151f08-dad7-4f2a-bdf1-2a10fda55980",
   "metadata": {},
   "source": [
    "# Question - 14\n",
    "ans - "
   ]
  },
  {
   "cell_type": "code",
   "execution_count": 2,
   "id": "2397a5ce-497a-44d1-bb68-5147a2b283cb",
   "metadata": {},
   "outputs": [
    {
     "name": "stdout",
     "output_type": "stream",
     "text": [
      "null hypothesis rejected as there is enough evidence that new drug decrease bp level by 10 mmHg\n",
      "P_value is 7.506144504985108e-10\n"
     ]
    }
   ],
   "source": [
    "import scipy.stats as stats\n",
    "import math\n",
    "\n",
    "sample_size = 100\n",
    "df = 99\n",
    "population_mean = 10\n",
    "sample_mean = 8\n",
    "sample_std = 3\n",
    "significance_level = 0.05\n",
    "\n",
    "t_score = (sample_mean - population_mean)/(sample_std/math.sqrt(sample_size))\n",
    "\n",
    "p_value = stats.t.cdf(t_score , df)\n",
    "\n",
    "if p_value < significance_level:\n",
    "    print(\"null hypothesis rejected as there is enough evidence that new drug decrease bp level by 10 mmHg\")\n",
    "    \n",
    "else:\n",
    "    print(\"null hypothesis accepted as there is not enough evidence that new drug decreases bp level by 10 mmhg\")\n",
    "    \n",
    "    \n",
    "print(f\"P_value is {p_value}\")    \n",
    "\n",
    "\n",
    "\n"
   ]
  },
  {
   "cell_type": "code",
   "execution_count": null,
   "id": "6c5e27de-bfcf-43ba-8662-3c905dffc1e8",
   "metadata": {},
   "outputs": [],
   "source": []
  },
  {
   "cell_type": "code",
   "execution_count": null,
   "id": "cc956bf2-c2d9-4284-903b-b9c1c88d57ae",
   "metadata": {},
   "outputs": [],
   "source": []
  },
  {
   "cell_type": "code",
   "execution_count": null,
   "id": "15aaf550-5fe7-461c-aafe-fae6130c53c7",
   "metadata": {},
   "outputs": [],
   "source": []
  },
  {
   "cell_type": "markdown",
   "id": "0b606a57-8b21-449a-b801-5aace76cce89",
   "metadata": {},
   "source": [
    "# Question - 15\n",
    "ans - "
   ]
  },
  {
   "cell_type": "code",
   "execution_count": 7,
   "id": "6b02e863-36b5-41f0-a305-bf6450c94d7e",
   "metadata": {},
   "outputs": [
    {
     "name": "stdout",
     "output_type": "stream",
     "text": [
      "failed to reject null hypothesis , there is not enough evidence that mean weight is under 5 pounds\n",
      "Z score is -2.0000000000000018\n",
      "P value is 0.0227501319481791\n"
     ]
    }
   ],
   "source": [
    "import scipy.stats as stats\n",
    "\n",
    "sample_mean = 4.8\n",
    "population_mean = 5\n",
    "population_std = 0.5\n",
    "sample_size = 25\n",
    "aplha = 0.01\n",
    "\n",
    "\n",
    "z_score = (sample_mean-population_mean)/(population_std/math.sqrt(sample_size))\n",
    "\n",
    "p_value = stats.norm.cdf(z_score)\n",
    "\n",
    "\n",
    "if p_value < aplha:\n",
    "    print(\"null hypothesis is rejected , there is enough evidence that mean weight is under the 5 pounds\")\n",
    "    \n",
    "else:\n",
    "    print(\"failed to reject null hypothesis , there is not enough evidence that mean weight is under 5 pounds\")\n",
    "    \n",
    "    \n",
    "print(f\"Z score is {z_score}\")\n",
    "print(f\"P value is {p_value}\")"
   ]
  },
  {
   "cell_type": "code",
   "execution_count": null,
   "id": "e560e791-ceba-4edf-a1a9-b871fafb5f1c",
   "metadata": {},
   "outputs": [],
   "source": []
  },
  {
   "cell_type": "code",
   "execution_count": null,
   "id": "1bbe4ed1-36f2-49b4-bebd-9279870f4073",
   "metadata": {},
   "outputs": [],
   "source": []
  },
  {
   "cell_type": "code",
   "execution_count": null,
   "id": "545147a6-0297-4f6e-87d8-3f70af630f32",
   "metadata": {},
   "outputs": [],
   "source": []
  },
  {
   "cell_type": "markdown",
   "id": "92592bd5-daf5-49ec-adf6-6249fe40f222",
   "metadata": {},
   "source": [
    "# Question - 16\n",
    "ans  - "
   ]
  },
  {
   "cell_type": "code",
   "execution_count": 22,
   "id": "99372d6f-6f86-4423-bcfd-29bbafb665b6",
   "metadata": {},
   "outputs": [
    {
     "name": "stdout",
     "output_type": "stream",
     "text": [
      " t score is 2.2511258444537408\n",
      "degree of freedom is 54.230639907533885\n",
      " p value is 0.02845213338800101\n",
      "failed to reject null hypothesis\n"
     ]
    }
   ],
   "source": [
    "import scipy.stats as stats\n",
    "import math\n",
    "\n",
    "sample1_mean = 80\n",
    "sample1_size = 30\n",
    "sample1_std = 10\n",
    "\n",
    "sample2_mean = 75\n",
    "sample2_size = 40\n",
    "sample2_std = 8\n",
    "\n",
    "significance_level = 0.01\n",
    "\n",
    "\n",
    "t_score = (sample1_mean - sample2_mean) / math.sqrt((sample1_std**2/sample1_size) + (sample2_std**2/sample2_size))\n",
    "                                         \n",
    "print(f\" t score is {t_score}\")\n",
    "\n",
    "\n",
    "df =( \n",
    "((std_dev1**2 / sample_size1) + (std_dev2**2 / sample_size2))**2 /\n",
    "    (((std_dev1**2 / sample_size1)**2 / (sample_size1 - 1)) + ((std_dev2**2 / sample_size2)**2 / (sample_size2 - 1)))\n",
    ")\n",
    "print(f\"degree of freedom is {df}\")                                         \n",
    "\n",
    "p_value = 2*(1 - stats.t.cdf(abs(t_score) , df))\n",
    "print(f\" p value is {p_value}\")\n",
    "\n",
    "\n",
    "if p_value < significance_level:\n",
    "    print(\"null hypothesis rejected \")\n",
    "    \n",
    "    \n",
    "else:\n",
    "    print(\"failed to reject null hypothesis\")\n",
    "\n",
    "\n",
    "\n",
    "\n"
   ]
  },
  {
   "cell_type": "code",
   "execution_count": 19,
   "id": "e5c07c85-3735-4c56-ace1-fdcfdd878b07",
   "metadata": {},
   "outputs": [
    {
     "name": "stdout",
     "output_type": "stream",
     "text": [
      "Fail to reject the null hypothesis. There is not enough evidence to conclude that the population means for the two groups are different.\n",
      "Test Statistic (t): 2.2511\n",
      "Degrees of Freedom: 54\n",
      "P-Value: 0.0285\n"
     ]
    }
   ],
   "source": [
    "import scipy.stats as stats\n",
    "import math\n",
    "\n",
    "# Given data for Group 1\n",
    "mean1 = 80\n",
    "std_dev1 = 10\n",
    "sample_size1 = 30\n",
    "\n",
    "# Given data for Group 2\n",
    "mean2 = 75\n",
    "std_dev2 = 8\n",
    "sample_size2 = 40\n",
    "\n",
    "# Significance level\n",
    "alpha = 0.01\n",
    "\n",
    "# Calculate the test statistic\n",
    "numerator = mean1 - mean2\n",
    "denominator = math.sqrt((std_dev1**2 / sample_size1) + (std_dev2**2 / sample_size2))\n",
    "t_statistic = numerator / denominator\n",
    "\n",
    "# Calculate degrees of freedom\n",
    "degrees_of_freedom = (\n",
    "    ((std_dev1**2 / sample_size1) + (std_dev2**2 / sample_size2))**2 /\n",
    "    (((std_dev1**2 / sample_size1)**2 / (sample_size1 - 1)) + ((std_dev2**2 / sample_size2)**2 / (sample_size2 - 1)))\n",
    ")\n",
    "\n",
    "# Calculate the p-value\n",
    "p_value = 2 * (1 - stats.t.cdf(abs(t_statistic), df=degrees_of_freedom))\n",
    "\n",
    "# Compare p-value to significance level\n",
    "if p_value < alpha:\n",
    "    print(\"Reject the null hypothesis. The population means for the two groups are not equal.\")\n",
    "else:\n",
    "    print(\"Fail to reject the null hypothesis. There is not enough evidence to conclude that the population means for the two groups are different.\")\n",
    "\n",
    "# Print the test statistic, degrees of freedom, and p-value\n",
    "print(f\"Test Statistic (t): {t_statistic:.4f}\")\n",
    "print(f\"Degrees of Freedom: {degrees_of_freedom:.0f}\")\n",
    "print(f\"P-Value: {p_value:.4f}\")\n"
   ]
  },
  {
   "cell_type": "code",
   "execution_count": null,
   "id": "9bf8ce1a-6f13-497a-b974-7284bdda4c66",
   "metadata": {},
   "outputs": [],
   "source": []
  },
  {
   "cell_type": "code",
   "execution_count": null,
   "id": "87550848-d262-4e77-a641-eb1a7bdc2a12",
   "metadata": {},
   "outputs": [],
   "source": []
  },
  {
   "cell_type": "code",
   "execution_count": null,
   "id": "dde3739e-0aef-494f-be2c-0f4e5acd185b",
   "metadata": {},
   "outputs": [],
   "source": []
  },
  {
   "cell_type": "markdown",
   "id": "1e3c2913-fe70-4c16-a985-29993d809eaf",
   "metadata": {},
   "source": [
    "# Question - 17\n",
    "ans - "
   ]
  },
  {
   "cell_type": "code",
   "execution_count": 4,
   "id": "919388a9-81c4-4ea9-9034-d80e8be77e77",
   "metadata": {},
   "outputs": [
    {
     "name": "stdout",
     "output_type": "stream",
     "text": [
      "critical value is 2.5758293035489004\n",
      "margin of error is 0.5464159103155348\n",
      "population mean ranges between 3.4535840896844654 to 4.546415910315535\n"
     ]
    }
   ],
   "source": [
    "import scipy.stats as stats\n",
    "import math\n",
    "\n",
    "sample_mean = 4\n",
    "sample_size = 50\n",
    "pop_std = 1.5\n",
    "confidence_interval = 0.99\n",
    "\n",
    "alpha = 0.01\n",
    "\n",
    "critical_value = stats.norm.ppf(1-alpha/2)\n",
    "print(f\"critical value is {critical_value}\")\n",
    "\n",
    "margin_error = critical_value* pop_std/math.sqrt(sample_size)\n",
    "print(f\"margin of error is {margin_error}\")\n",
    "\n",
    "upper_bound = sample_mean + margin_error\n",
    "lower_bound = sample_mean - margin_error\n",
    "\n",
    "print(f\"population mean ranges between {lower_bound} to {upper_bound}\")"
   ]
  },
  {
   "cell_type": "code",
   "execution_count": null,
   "id": "1e5e9b7e-c67c-4390-b465-afec6c9e3c17",
   "metadata": {},
   "outputs": [],
   "source": []
  }
 ],
 "metadata": {
  "kernelspec": {
   "display_name": "Python 3 (ipykernel)",
   "language": "python",
   "name": "python3"
  },
  "language_info": {
   "codemirror_mode": {
    "name": "ipython",
    "version": 3
   },
   "file_extension": ".py",
   "mimetype": "text/x-python",
   "name": "python",
   "nbconvert_exporter": "python",
   "pygments_lexer": "ipython3",
   "version": "3.10.8"
  }
 },
 "nbformat": 4,
 "nbformat_minor": 5
}
